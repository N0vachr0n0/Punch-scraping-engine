{
 "cells": [
  {
   "cell_type": "code",
   "execution_count": 3,
   "metadata": {},
   "outputs": [],
   "source": [
    "from scrapy.crawler import CrawlerProcess"
   ]
  },
  {
   "cell_type": "code",
   "execution_count": 2,
   "metadata": {},
   "outputs": [],
   "source": [
    "from scraping_engine import PunchScraper"
   ]
  },
  {
   "cell_type": "code",
   "execution_count": 4,
   "metadata": {},
   "outputs": [
    {
     "name": "stderr",
     "output_type": "stream",
     "text": [
      "2020-12-02 08:58:17 [scrapy.utils.log] INFO: Scrapy 2.4.1 started (bot: scrapybot)\n",
      "2020-12-02 08:58:17 [scrapy.utils.log] INFO: Versions: lxml 4.4.1.0, libxml2 2.9.9, cssselect 1.1.0, parsel 1.6.0, w3lib 1.22.0, Twisted 20.3.0, Python 3.7.4 (default, Aug  9 2019, 18:34:13) [MSC v.1915 64 bit (AMD64)], pyOpenSSL 19.0.0 (OpenSSL 1.1.1d  10 Sep 2019), cryptography 2.7, Platform Windows-10-10.0.18362-SP0\n",
      "2020-12-02 08:58:17 [scrapy.utils.log] DEBUG: Using reactor: twisted.internet.selectreactor.SelectReactor\n",
      "2020-12-02 08:58:17 [scrapy.crawler] INFO: Overridden settings:\n",
      "{}\n",
      "2020-12-02 08:58:17 [scrapy.extensions.telnet] INFO: Telnet Password: 667bccbea4df7771\n",
      "2020-12-02 08:58:17 [scrapy.middleware] INFO: Enabled extensions:\n",
      "['scrapy.extensions.corestats.CoreStats',\n",
      " 'scrapy.extensions.telnet.TelnetConsole',\n",
      " 'scrapy.extensions.logstats.LogStats']\n",
      "2020-12-02 08:58:17 [scrapy.middleware] INFO: Enabled downloader middlewares:\n",
      "['scrapy.downloadermiddlewares.httpauth.HttpAuthMiddleware',\n",
      " 'scrapy.downloadermiddlewares.downloadtimeout.DownloadTimeoutMiddleware',\n",
      " 'scrapy.downloadermiddlewares.defaultheaders.DefaultHeadersMiddleware',\n",
      " 'scrapy.downloadermiddlewares.useragent.UserAgentMiddleware',\n",
      " 'scrapy.downloadermiddlewares.retry.RetryMiddleware',\n",
      " 'scrapy.downloadermiddlewares.redirect.MetaRefreshMiddleware',\n",
      " 'scrapy.downloadermiddlewares.httpcompression.HttpCompressionMiddleware',\n",
      " 'scrapy.downloadermiddlewares.redirect.RedirectMiddleware',\n",
      " 'scrapy.downloadermiddlewares.cookies.CookiesMiddleware',\n",
      " 'scrapy.downloadermiddlewares.httpproxy.HttpProxyMiddleware',\n",
      " 'scrapy.downloadermiddlewares.stats.DownloaderStats']\n",
      "2020-12-02 08:58:17 [scrapy.middleware] INFO: Enabled spider middlewares:\n",
      "['scrapy.spidermiddlewares.httperror.HttpErrorMiddleware',\n",
      " 'scrapy.spidermiddlewares.offsite.OffsiteMiddleware',\n",
      " 'scrapy.spidermiddlewares.referer.RefererMiddleware',\n",
      " 'scrapy.spidermiddlewares.urllength.UrlLengthMiddleware',\n",
      " 'scrapy.spidermiddlewares.depth.DepthMiddleware']\n",
      "2020-12-02 08:58:17 [scrapy.middleware] INFO: Enabled item pipelines:\n",
      "[]\n",
      "2020-12-02 08:58:17 [scrapy.core.engine] INFO: Spider opened\n",
      "2020-12-02 08:58:17 [scrapy.extensions.logstats] INFO: Crawled 0 pages (at 0 pages/min), scraped 0 items (at 0 items/min)\n",
      "2020-12-02 08:58:17 [scrapy.extensions.telnet] INFO: Telnet console listening on 127.0.0.1:6023\n",
      "2020-12-02 08:58:19 [scrapy.core.engine] DEBUG: Crawled (200) <GET https://punchng.com/> (referer: None)\n",
      "2020-12-02 08:58:19 [scrapy.core.engine] DEBUG: Crawled (200) <GET https://punchng.com/gowon-tasks-transporters-on-sector-upgrade/> (referer: https://punchng.com/)\n",
      "2020-12-02 08:58:20 [scrapy.core.engine] DEBUG: Crawled (200) <GET https://punchng.com/fct-spent-n28-5bn-on-covid-19-says-minister/> (referer: https://punchng.com/)\n",
      "2020-12-02 08:58:20 [scrapy.core.engine] DEBUG: Crawled (200) <GET https://punchng.com/n69-4bn-debt-court-to-rule-on-jimoh-ibrahims-seized-property-jan-12/> (referer: https://punchng.com/)\n",
      "2020-12-02 08:58:20 [scrapy.core.engine] DEBUG: Crawled (200) <GET https://punchng.com/imo-lawmakers-approve-tenure-extension-for-lg-chairmen/> (referer: https://punchng.com/)\n",
      "2020-12-02 08:58:20 [scrapy.core.engine] DEBUG: Crawled (200) <GET https://punchng.com/pdp-withdraws-from-kano-lg-polls/> (referer: https://punchng.com/)\n",
      "2020-12-02 08:58:20 [scrapy.core.engine] DEBUG: Crawled (200) <GET https://punchng.com/breaking-gridlock-as-tanker-catches-fire-at-magboro-section-of-lagos-ibadan-expressway/> (referer: https://punchng.com/)\n",
      "2020-12-02 08:58:20 [scrapy.core.engine] DEBUG: Crawled (200) <GET https://punchng.com/breaking-ex-ncaa-dg-muhtar-usman-is-dead/> (referer: https://punchng.com/)\n",
      "2020-12-02 08:58:20 [scrapy.core.engine] DEBUG: Crawled (200) <GET https://punchng.com/us-election-no-evidence-of-widespread-voter-fraud-yet-says-attorney-general/> (referer: https://punchng.com/)\n",
      "2020-12-02 08:58:20 [scrapy.core.engine] DEBUG: Crawled (200) <GET https://punchng.com/adeniyi-to-wear-maj-gen-rank-pending-conviction-confirmation/> (referer: https://punchng.com/)\n",
      "2020-12-02 08:58:20 [scrapy.core.engine] DEBUG: Crawled (200) <GET https://punchng.com/reps-demand-better-salaries-allowances-for-doctors-others/> (referer: https://punchng.com/)\n",
      "2020-12-02 08:58:20 [scrapy.core.engine] DEBUG: Crawled (200) <GET https://punchng.com/covid-19-uk-approves-pfizer-biontech-vaccine-ahead-of-us-eu/> (referer: https://punchng.com/)\n",
      "2020-12-02 08:58:20 [scrapy.core.engine] DEBUG: Crawled (200) <GET https://punchng.com/strike-consultation-ongoing-says-asuu-president/> (referer: https://punchng.com/)\n",
      "2020-12-02 08:58:20 [scrapy.core.engine] DEBUG: Crawled (200) <GET https://punchng.com/trump-calls-on-georgia-governor-to-halt-senate-race/> (referer: https://punchng.com/)\n",
      "2020-12-02 08:58:20 [scrapy.core.engine] DEBUG: Crawled (200) <GET https://punchng.com/japan-residents-to-get-free-covid-19-vaccine/> (referer: https://punchng.com/)\n",
      "2020-12-02 08:58:21 [scrapy.core.engine] DEBUG: Crawled (200) <GET https://punchng.com/bayelsa-asks-private-schools-to-waive-first-term-fees/> (referer: https://punchng.com/)\n",
      "2020-12-02 08:58:24 [scrapy.core.engine] INFO: Closing spider (finished)\n",
      "2020-12-02 08:58:24 [scrapy.statscollectors] INFO: Dumping Scrapy stats:\n",
      "{'downloader/request_bytes': 5596,\n",
      " 'downloader/request_count': 16,\n",
      " 'downloader/request_method_count/GET': 16,\n",
      " 'downloader/response_bytes': 416674,\n",
      " 'downloader/response_count': 16,\n",
      " 'downloader/response_status_count/200': 16,\n",
      " 'elapsed_time_seconds': 7.15714,\n",
      " 'finish_reason': 'finished',\n",
      " 'finish_time': datetime.datetime(2020, 12, 2, 7, 58, 24, 708218),\n",
      " 'log_count/DEBUG': 16,\n",
      " 'log_count/INFO': 10,\n",
      " 'request_depth_max': 1,\n",
      " 'response_received_count': 16,\n",
      " 'scheduler/dequeued': 16,\n",
      " 'scheduler/dequeued/memory': 16,\n",
      " 'scheduler/enqueued': 16,\n",
      " 'scheduler/enqueued/memory': 16,\n",
      " 'start_time': datetime.datetime(2020, 12, 2, 7, 58, 17, 551078)}\n",
      "2020-12-02 08:58:24 [scrapy.core.engine] INFO: Spider closed (finished)\n"
     ]
    }
   ],
   "source": [
    "process = CrawlerProcess()\n",
    "process.crawl(PunchScraper)\n",
    "process.start()"
   ]
  }
 ],
 "metadata": {
  "kernelspec": {
   "display_name": "Python 3",
   "language": "python",
   "name": "python3"
  },
  "language_info": {
   "codemirror_mode": {
    "name": "ipython",
    "version": 3
   },
   "file_extension": ".py",
   "mimetype": "text/x-python",
   "name": "python",
   "nbconvert_exporter": "python",
   "pygments_lexer": "ipython3",
   "version": "3.7.4"
  }
 },
 "nbformat": 4,
 "nbformat_minor": 4
}
